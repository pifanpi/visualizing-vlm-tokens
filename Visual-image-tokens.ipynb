{
 "cells": [
  {
   "cell_type": "code",
   "execution_count": null,
   "id": "fb85dbb1-c974-4e54-b4d1-25aded29b167",
   "metadata": {},
   "outputs": [],
   "source": [
    "import imgtokens\n",
    "ipwt = imgtokens.ImagePatchWordTokenizer()"
   ]
  },
  {
   "cell_type": "code",
   "execution_count": null,
   "id": "2dc30e93-6c2f-45b6-b29a-43930c6297ae",
   "metadata": {},
   "outputs": [],
   "source": [
    "# Pick an Image URL\n",
    "\n",
    "# path through grass\n",
    "img_url=\"https://upload.wikimedia.org/wikipedia/commons/thumb/d/dd/Gfp-wisconsin-madison-the-nature-boardwalk.jpg/2560px-Gfp-wisconsin-madison-the-nature-boardwalk.jpg\"\n",
    "\n",
    "# psyduck\n",
    "img_url = \"https://images.tcdn.com.br/img/img_prod/460977/estatua_colecionavel_psyduck_pokemon_15cm_anime_manga_mega_saldao_mkp_127551_1_64f34b612a53196c9b84efe947d33d43.jpg\"\n",
    "\n",
    "# hand picking tomato\n",
    "img_url = \"https://forestry.com/wp/wp-content/uploads/2024/02/2-219.webp\""
   ]
  },
  {
   "cell_type": "code",
   "execution_count": null,
   "id": "b2e993ab-ab91-4ea7-989c-be22e20f8def",
   "metadata": {},
   "outputs": [],
   "source": [
    "import requests\n",
    "from PIL import Image\n",
    "from io import BytesIO\n",
    "\n",
    "print(f\"Fetching img from {img_url}\")\n",
    "response = requests.get(img_url)\n",
    "img = Image.open(BytesIO(response.content))\n",
    "img = ipwt._standardize_img(img)\n",
    "img"
   ]
  },
  {
   "cell_type": "code",
   "execution_count": null,
   "id": "9d4bcd44-3012-47c3-96c7-8acc89740692",
   "metadata": {},
   "outputs": [],
   "source": [
    "words = ipwt.process_img(img, num_words=8)"
   ]
  },
  {
   "cell_type": "code",
   "execution_count": null,
   "id": "db4300bb-5cc6-4ce8-a60f-f7b2be381748",
   "metadata": {},
   "outputs": [],
   "source": [
    "ipwt.draw_with_plotly(words, size=1500)"
   ]
  },
  {
   "cell_type": "code",
   "execution_count": null,
   "id": "ae9ba79e-c012-42d0-9b97-728ac8cf5250",
   "metadata": {},
   "outputs": [],
   "source": []
  }
 ],
 "metadata": {
  "kernelspec": {
   "display_name": "Python 3 (ipykernel)",
   "language": "python",
   "name": "python3"
  },
  "language_info": {
   "codemirror_mode": {
    "name": "ipython",
    "version": 3
   },
   "file_extension": ".py",
   "mimetype": "text/x-python",
   "name": "python",
   "nbconvert_exporter": "python",
   "pygments_lexer": "ipython3",
   "version": "3.11.9"
  },
  "widgets": {
   "application/vnd.jupyter.widget-state+json": {
    "state": {},
    "version_major": 2,
    "version_minor": 0
   }
  }
 },
 "nbformat": 4,
 "nbformat_minor": 5
}
