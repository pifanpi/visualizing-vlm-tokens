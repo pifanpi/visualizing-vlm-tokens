{
 "cells": [
  {
   "cell_type": "markdown",
   "id": "23937db0-19a4-44d0-807f-6b27f544d025",
   "metadata": {},
   "source": [
    "# What are the wordpieces with the biggest and smallest vector norms?\n",
    "\n",
    "One of the questions that comes up when analyzing visual tokens is the magnitude of the embeddings for the word-pieces.  This notebook shows this explicitly."
   ]
  },
  {
   "cell_type": "code",
   "execution_count": 1,
   "id": "fb85dbb1-c974-4e54-b4d1-25aded29b167",
   "metadata": {},
   "outputs": [
    {
     "name": "stderr",
     "output_type": "stream",
     "text": [
      "`low_cpu_mem_usage` was None, now set to True since model is quantized.\n"
     ]
    },
    {
     "data": {
      "application/vnd.jupyter.widget-view+json": {
       "model_id": "0c8591b015144a299bb9a9e262961e79",
       "version_major": 2,
       "version_minor": 0
      },
      "text/plain": [
       "Loading checkpoint shards:   0%|          | 0/3 [00:00<?, ?it/s]"
      ]
     },
     "metadata": {},
     "output_type": "display_data"
    }
   ],
   "source": [
    "import imgtokens\n",
    "ipwt = imgtokens.ImagePatchWordTokenizer()\n",
    "ipwt._init_model()\n",
    "embeds = ipwt.embedding_matrix"
   ]
  },
  {
   "cell_type": "code",
   "execution_count": 2,
   "id": "08ccb41d-fe94-4e71-91b3-e0ee4071c969",
   "metadata": {},
   "outputs": [
    {
     "data": {
      "text/plain": [
       "(32064,)"
      ]
     },
     "execution_count": 2,
     "metadata": {},
     "output_type": "execute_result"
    }
   ],
   "source": [
    "import torch\n",
    "norms = torch.norm(embeds, p=2, dim=1)\n",
    "norms = norms.detach().cpu().numpy()\n",
    "norms.shape"
   ]
  },
  {
   "cell_type": "markdown",
   "id": "ab3adb85-9e83-44ca-abe2-87801f28c15c",
   "metadata": {},
   "source": [
    "# Distribution of L2 norms"
   ]
  },
  {
   "cell_type": "code",
   "execution_count": 3,
   "id": "edee5a5c-986f-4b86-9ef4-0a5f4f4aa3b9",
   "metadata": {},
   "outputs": [
    {
     "data": {
      "image/png": "[encoded data removed]",
      "text/plain": [
       "<Figure size 1000x600 with 1 Axes>"
      ]
     },
     "metadata": {},
     "output_type": "display_data"
    }
   ],
   "source": [
    "import matplotlib.pyplot as plt\n",
    "import numpy as np\n",
    "\n",
    "plt.figure(figsize=(10, 6))\n",
    "plt.hist(list(norms), bins=100, edgecolor='black')\n",
    "plt.xlabel('L2 magnitude')\n",
    "plt.ylabel('Frequency')\n",
    "plt.title('L2 norm for word-piece embeddings')\n",
    "plt.show()"
   ]
  },
  {
   "cell_type": "markdown",
   "id": "0561dc6a-b1f0-41ec-8e2d-d2c80a1a6f58",
   "metadata": {},
   "source": [
    "# Wordpieces with smallest norms"
   ]
  },
  {
   "cell_type": "code",
   "execution_count": 4,
   "id": "4e8bf02a-af8f-4e43-a135-0c614d80fc22",
   "metadata": {},
   "outputs": [],
   "source": [
    "order = np.argsort(norms)"
   ]
  },
  {
   "cell_type": "code",
   "execution_count": 5,
   "id": "b6398327-18af-4ffb-bf03-77421620bebe",
   "metadata": {},
   "outputs": [
    {
     "name": "stdout",
     "output_type": "stream",
     "text": [
      "#0 smallest is % (idx=40) with norm 0.00035\n",
      "#1 smallest is � (idx=198) with norm 0.00035\n",
      "#2 smallest is T (idx=87) with norm 0.00035\n",
      "#3 smallest is g (idx=106) with norm 0.00035\n",
      "#4 smallest is _ (idx=98) with norm 0.00035\n",
      "#5 smallest is H (idx=75) with norm 0.00035\n",
      "#6 smallest is I (idx=76) with norm 0.00035\n",
      "#7 smallest is K (idx=78) with norm 0.00035\n",
      "#8 smallest is m (idx=112) with norm 0.00035\n",
      "#9 smallest is ! (idx=36) with norm 0.00035\n",
      "#10 smallest is D (idx=71) with norm 0.00036\n",
      "#11 smallest is 3 (idx=54) with norm 0.00036\n",
      "#12 smallest is � (idx=257) with norm 0.00036\n",
      "#13 smallest is 6 (idx=57) with norm 0.00036\n",
      "#14 smallest is z (idx=125) with norm 0.00036\n",
      "#15 smallest is 0 (idx=51) with norm 0.00036\n",
      "#16 smallest is v (idx=121) with norm 0.00036\n",
      "#17 smallest is E (idx=72) with norm 0.00036\n",
      "#18 smallest is : (idx=61) with norm 0.00036\n",
      "#19 smallest is p (idx=115) with norm 0.00036\n",
      "#20 smallest is = (idx=64) with norm 0.00036\n",
      "#21 smallest is ; (idx=62) with norm 0.00036\n",
      "#22 smallest is h (idx=107) with norm 0.00036\n",
      "#23 smallest is B (idx=69) with norm 0.00036\n",
      "#24 smallest is 2 (idx=53) with norm 0.00036\n",
      "#25 smallest is F (idx=73) with norm 0.00036\n",
      "#26 smallest is d (idx=103) with norm 0.00036\n",
      "#27 smallest is f (idx=105) with norm 0.00036\n",
      "#28 smallest is | (idx=127) with norm 0.00036\n",
      "#29 smallest is ( (idx=43) with norm 0.00036\n"
     ]
    }
   ],
   "source": [
    "for n in range(30):\n",
    "    idx = int(order[n])\n",
    "    norm = norms[idx]\n",
    "    word = ipwt.processor.tokenizer.decode(idx)\n",
    "    print(f\"#{n} smallest is {word} ({idx=}) with norm {norm:.5f}\")"
   ]
  },
  {
   "cell_type": "markdown",
   "id": "806c9e9f-8bc3-4901-b61f-48e196d9b74a",
   "metadata": {},
   "source": [
    "# biggest norms"
   ]
  },
  {
   "cell_type": "code",
   "execution_count": 6,
   "id": "627607c4-809f-409b-96b3-05557dffbbde",
   "metadata": {},
   "outputs": [
    {
     "name": "stdout",
     "output_type": "stream",
     "text": [
      "#1 biggest is  ",
      " (idx=31353) with norm 1.29297\n",
      "#2 biggest is ￼ (idx=31634) with norm 1.29102\n",
      "#3 biggest is Santos (idx=24813) with norm 1.26074\n",
      "#4 biggest is yrus (idx=29646) with norm 1.26074\n",
      "#5 biggest is Wolfgang (idx=19314) with norm 1.25977\n",
      "#6 biggest is Bruno (idx=20975) with norm 1.25781\n",
      "#7 biggest is firewall (idx=25570) with norm 1.25488\n",
      "#8 biggest is ylvan (idx=13431) with norm 1.25195\n",
      "#9 biggest is Maryland (idx=22559) with norm 1.25195\n",
      "#10 biggest is irmingham (idx=28836) with norm 1.25098\n",
      "#11 biggest is odore (idx=29221) with norm 1.25098\n",
      "#12 biggest is ignon (idx=29582) with norm 1.25000\n",
      "#13 biggest is comma (idx=16694) with norm 1.24902\n",
      "#14 biggest is Ernst (idx=15969) with norm 1.24902\n",
      "#15 biggest is Queensland (idx=25195) with norm 1.24805\n",
      "#16 biggest is ancouver (idx=29711) with norm 1.24805\n",
      "#17 biggest is hagen (idx=25771) with norm 1.24512\n",
      "#18 biggest is Lyon (idx=22105) with norm 1.24512\n",
      "#19 biggest is eground (idx=18128) with norm 1.24219\n",
      "#20 biggest is Congo (idx=29723) with norm 1.24219\n",
      "#21 biggest is junit (idx=18491) with norm 1.24219\n",
      "#22 biggest is Meyer (idx=26581) with norm 1.24121\n",
      "#23 biggest is freely (idx=28472) with norm 1.24121\n",
      "#24 biggest is ocoa (idx=22531) with norm 1.24023\n",
      "#25 biggest is Julius (idx=23762) with norm 1.24023\n",
      "#26 biggest is 条 (idx=31217) with norm 1.24023\n",
      "#27 biggest is iella (idx=28049) with norm 1.24023\n",
      "#28 biggest is 良 (idx=31400) with norm 1.24023\n",
      "#29 biggest is ionic (idx=26629) with norm 1.24023\n"
     ]
    }
   ],
   "source": [
    "for n in range(1,30):\n",
    "    idx = int(order[-n])\n",
    "    norm = norms[idx]\n",
    "    word = ipwt.processor.tokenizer.decode(idx)\n",
    "    print(f\"#{n} biggest is {word} ({idx=}) with norm {norm:.5f}\")"
   ]
  },
  {
   "cell_type": "markdown",
   "id": "57b287c6-79de-4453-853a-50b99f974be6",
   "metadata": {},
   "source": [
    "# The ones at the end which cosine likes"
   ]
  },
  {
   "cell_type": "code",
   "execution_count": 7,
   "id": "02511de2-76f1-4204-9cfe-5e8fb086b033",
   "metadata": {},
   "outputs": [
    {
     "name": "stdout",
     "output_type": "stream",
     "text": [
      "Number 32000 is <image> (idx=32000) with norm 0.15161\n",
      "Number 32001 is  (idx=32001) with norm 0.15125\n",
      "Number 32002 is  (idx=32002) with norm 0.15149\n",
      "Number 32003 is  (idx=32003) with norm 0.15149\n",
      "Number 32004 is  (idx=32004) with norm 0.15161\n",
      "Number 32005 is  (idx=32005) with norm 0.15161\n",
      "Number 32006 is  (idx=32006) with norm 0.15149\n",
      "Number 32007 is  (idx=32007) with norm 0.15149\n",
      "Number 32008 is  (idx=32008) with norm 0.15125\n",
      "Number 32009 is  (idx=32009) with norm 0.15149\n",
      "Number 32010 is  (idx=32010) with norm 0.15137\n",
      "Number 32011 is  (idx=32011) with norm 0.15137\n",
      "Number 32012 is  (idx=32012) with norm 0.15137\n",
      "Number 32013 is  (idx=32013) with norm 0.15149\n",
      "Number 32014 is  (idx=32014) with norm 0.15149\n",
      "Number 32015 is  (idx=32015) with norm 0.15173\n",
      "Number 32016 is  (idx=32016) with norm 0.15149\n",
      "Number 32017 is  (idx=32017) with norm 0.15137\n",
      "Number 32018 is  (idx=32018) with norm 0.15161\n",
      "Number 32019 is  (idx=32019) with norm 0.15149\n",
      "Number 32020 is  (idx=32020) with norm 0.15137\n",
      "Number 32021 is  (idx=32021) with norm 0.15137\n",
      "Number 32022 is  (idx=32022) with norm 0.15149\n",
      "Number 32023 is  (idx=32023) with norm 0.15137\n",
      "Number 32024 is  (idx=32024) with norm 0.15149\n",
      "Number 32025 is  (idx=32025) with norm 0.15161\n",
      "Number 32026 is  (idx=32026) with norm 0.15173\n",
      "Number 32027 is  (idx=32027) with norm 0.15125\n",
      "Number 32028 is  (idx=32028) with norm 0.15149\n",
      "Number 32029 is  (idx=32029) with norm 0.15149\n",
      "Number 32030 is  (idx=32030) with norm 0.15137\n",
      "Number 32031 is  (idx=32031) with norm 0.15161\n",
      "Number 32032 is  (idx=32032) with norm 0.15149\n",
      "Number 32033 is  (idx=32033) with norm 0.15149\n",
      "Number 32034 is  (idx=32034) with norm 0.15149\n",
      "Number 32035 is  (idx=32035) with norm 0.15137\n",
      "Number 32036 is  (idx=32036) with norm 0.15173\n",
      "Number 32037 is  (idx=32037) with norm 0.15149\n",
      "Number 32038 is  (idx=32038) with norm 0.15161\n",
      "Number 32039 is  (idx=32039) with norm 0.15149\n",
      "Number 32040 is  (idx=32040) with norm 0.15161\n",
      "Number 32041 is  (idx=32041) with norm 0.15161\n",
      "Number 32042 is  (idx=32042) with norm 0.15149\n",
      "Number 32043 is  (idx=32043) with norm 0.15137\n",
      "Number 32044 is  (idx=32044) with norm 0.15161\n",
      "Number 32045 is  (idx=32045) with norm 0.15137\n",
      "Number 32046 is  (idx=32046) with norm 0.15125\n",
      "Number 32047 is  (idx=32047) with norm 0.15161\n",
      "Number 32048 is  (idx=32048) with norm 0.15149\n",
      "Number 32049 is  (idx=32049) with norm 0.15125\n",
      "Number 32050 is  (idx=32050) with norm 0.15149\n",
      "Number 32051 is  (idx=32051) with norm 0.15149\n",
      "Number 32052 is  (idx=32052) with norm 0.15137\n",
      "Number 32053 is  (idx=32053) with norm 0.15161\n",
      "Number 32054 is  (idx=32054) with norm 0.15149\n",
      "Number 32055 is  (idx=32055) with norm 0.15137\n",
      "Number 32056 is  (idx=32056) with norm 0.15161\n",
      "Number 32057 is  (idx=32057) with norm 0.15137\n",
      "Number 32058 is  (idx=32058) with norm 0.15149\n",
      "Number 32059 is  (idx=32059) with norm 0.15137\n",
      "Number 32060 is  (idx=32060) with norm 0.15149\n",
      "Number 32061 is  (idx=32061) with norm 0.15149\n",
      "Number 32062 is  (idx=32062) with norm 0.15161\n"
     ]
    }
   ],
   "source": [
    "for n in range(32000,32063):\n",
    "    idx = n\n",
    "    norm = norms[idx]\n",
    "    word = ipwt.processor.tokenizer.decode(idx)\n",
    "    print(f\"Number {n} is {word} ({idx=}) with norm {norm:.5f}\")"
   ]
  },
  {
   "cell_type": "code",
   "execution_count": null,
   "id": "db432ac5-687d-40b0-a207-f53c0715c3d4",
   "metadata": {},
   "outputs": [],
   "source": []
  }
 ],
 "metadata": {
  "kernelspec": {
   "display_name": "Python 3 (ipykernel)",
   "language": "python",
   "name": "python3"
  },
  "language_info": {
   "codemirror_mode": {
    "name": "ipython",
    "version": 3
   },
   "file_extension": ".py",
   "mimetype": "text/x-python",
   "name": "python",
   "nbconvert_exporter": "python",
   "pygments_lexer": "ipython3",
   "version": "3.11.9"
  },
  "widgets": {
   "application/vnd.jupyter.widget-state+json": {
    "state": {
     "0c8591b015144a299bb9a9e262961e79": {
      "model_module": "@jupyter-widgets/controls",
      "model_module_version": "2.0.0",
      "model_name": "HBoxModel",
      "state": {
       "children": [
        "IPY_MODEL_c931f9cd9c8e465ba8e7ec3b0ba4ace6",
        "IPY_MODEL_2a5838a528894c4fa3217e8492582191",
        "IPY_MODEL_d0a3a8a029f94a799d6b7a07f7bf8802"
       ],
       "layout": "IPY_MODEL_aff9433c4de14f74832bd6dde82a392f"
      }
     },
     "2a5838a528894c4fa3217e8492582191": {
      "model_module": "@jupyter-widgets/controls",
      "model_module_version": "2.0.0",
      "model_name": "FloatProgressModel",
      "state": {
       "bar_style": "success",
       "layout": "IPY_MODEL_f0dd385bc2b44532aa8d31b664b1a042",
       "max": 3,
       "style": "IPY_MODEL_4a101cbf29f1470aae5817145f667111",
       "value": 3
      }
     },
     "4a101cbf29f1470aae5817145f667111": {
      "model_module": "@jupyter-widgets/controls",
      "model_module_version": "2.0.0",
      "model_name": "ProgressStyleModel",
      "state": {
       "description_width": ""
      }
     },
     "7470537a800e47b6ad57270672abfaab": {
      "model_module": "@jupyter-widgets/controls",
      "model_module_version": "2.0.0",
      "model_name": "HTMLStyleModel",
      "state": {
       "description_width": "",
       "font_size": null,
       "text_color": null
      }
     },
     "8037f820ca7c41e19493d9b33e43c0e5": {
      "model_module": "@jupyter-widgets/controls",
      "model_module_version": "2.0.0",
      "model_name": "HTMLStyleModel",
      "state": {
       "description_width": "",
       "font_size": null,
       "text_color": null
      }
     },
     "83432673cea2417597f4e7e685d5f4a5": {
      "model_module": "@jupyter-widgets/base",
      "model_module_version": "2.0.0",
      "model_name": "LayoutModel",
      "state": {}
     },
     "aff9433c4de14f74832bd6dde82a392f": {
      "model_module": "@jupyter-widgets/base",
      "model_module_version": "2.0.0",
      "model_name": "LayoutModel",
      "state": {}
     },
     "c931f9cd9c8e465ba8e7ec3b0ba4ace6": {
      "model_module": "@jupyter-widgets/controls",
      "model_module_version": "2.0.0",
      "model_name": "HTMLModel",
      "state": {
       "layout": "IPY_MODEL_f1b7eba64b034b99a9735ade735f7a13",
       "style": "IPY_MODEL_7470537a800e47b6ad57270672abfaab",
       "value": "Loading checkpoint shards: 100%"
      }
     },
     "d0a3a8a029f94a799d6b7a07f7bf8802": {
      "model_module": "@jupyter-widgets/controls",
      "model_module_version": "2.0.0",
      "model_name": "HTMLModel",
      "state": {
       "layout": "IPY_MODEL_83432673cea2417597f4e7e685d5f4a5",
       "style": "IPY_MODEL_8037f820ca7c41e19493d9b33e43c0e5",
       "value": " 3/3 [00:03&lt;00:00,  1.03s/it]"
      }
     },
     "f0dd385bc2b44532aa8d31b664b1a042": {
      "model_module": "@jupyter-widgets/base",
      "model_module_version": "2.0.0",
      "model_name": "LayoutModel",
      "state": {}
     },
     "f1b7eba64b034b99a9735ade735f7a13": {
      "model_module": "@jupyter-widgets/base",
      "model_module_version": "2.0.0",
      "model_name": "LayoutModel",
      "state": {}
     }
    },
    "version_major": 2,
    "version_minor": 0
   }
  }
 },
 "nbformat": 4,
 "nbformat_minor": 5
}
