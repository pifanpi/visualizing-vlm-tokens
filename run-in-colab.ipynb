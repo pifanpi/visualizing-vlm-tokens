{
 "cells": [
  {
   "cell_type": "markdown",
   "metadata": {},
   "source": [
    "# Visualizing VLM Tokens\n",
    "\n",
    "Visual Language Models (VLM's) use a pretrained LLM for their core smarts, but take images as inputs.  There are many variations on how to do this, but nowadays they've settled into a standard pattern which is fairly straightforward, depicted below.  Images are first prepared and sent through a neural network that is pre-trained for image analysis - typically a ViT like CLIP.  ViTs break the image down into patches that are maybe 14x14 pixels, and each patch gets converted to its own vector at the output.  The VLM than translates these image vectors into the same embedding space as word tokens, and sends them into the LLM for analysis."
   ]
  },
  {
   "cell_type": "markdown",
   "metadata": {},
   "source": [
    "## Running in Colab\n",
    "\n",
    "Google Colab is a great place to experiment with a free GPU.  But it can be slow to set up.\n",
    "\n",
    "Expect this to take about **5 minutes to load everything** and fully warm up."
   ]
  },
  {
   "cell_type": "code",
   "execution_count": null,
   "metadata": {
    "colab": {
     "base_uri": "https://localhost:8080/"
    },
    "id": "pSzZIT7eKLut",
    "outputId": "42d04d58-9f1a-4d8b-90f0-fb215ad26e46"
   },
   "outputs": [],
   "source": [
    "!git clone https://github.com/pifanpi/visualizing-vlm-tokens\n",
    "%cd /content/visualizing-vlm-tokens\n",
    "!git pull origin main\n",
    "!./install-requirements.sh"
   ]
  },
  {
   "cell_type": "code",
   "execution_count": null,
   "metadata": {
    "id": "qPEgvue_KXMA"
   },
   "outputs": [],
   "source": [
    "import imgtokens\n",
    "ipwt = imgtokens.ImagePatchWordTokenizer()"
   ]
  },
  {
   "cell_type": "code",
   "execution_count": null,
   "metadata": {
    "id": "gfsRYEUWLB2W"
   },
   "outputs": [],
   "source": [
    "# Pick an Image URL\n",
    "\n",
    "# path through grass\n",
    "img_url=\"https://upload.wikimedia.org/wikipedia/commons/thumb/d/dd/Gfp-wisconsin-madison-the-nature-boardwalk.jpg/2560px-Gfp-wisconsin-madison-the-nature-boardwalk.jpg\"\n",
    "\n",
    "# psyduck\n",
    "img_url = \"https://images.tcdn.com.br/img/img_prod/460977/estatua_colecionavel_psyduck_pokemon_15cm_anime_manga_mega_saldao_mkp_127551_1_64f34b612a53196c9b84efe947d33d43.jpg\"\n",
    "\n",
    "# hand picking tomato\n",
    "img_url = \"https://forestry.com/wp/wp-content/uploads/2024/02/2-219.webp\""
   ]
  },
  {
   "cell_type": "code",
   "execution_count": null,
   "metadata": {
    "colab": {
     "base_uri": "https://localhost:8080/",
     "height": 596
    },
    "id": "ktRy_zz0LDiZ",
    "outputId": "4b92c339-371d-40cb-ad35-b09334bc2399"
   },
   "outputs": [],
   "source": [
    "import requests\n",
    "from PIL import Image\n",
    "from io import BytesIO\n",
    "\n",
    "print(f\"Fetching img from {img_url}\")\n",
    "response = requests.get(img_url)\n",
    "img = Image.open(BytesIO(response.content))\n",
    "img = ipwt._standardize_img(img)\n",
    "img"
   ]
  },
  {
   "cell_type": "code",
   "execution_count": null,
   "metadata": {
    "colab": {
     "base_uri": "https://localhost:8080/",
     "height": 191,
     "referenced_widgets": [
      "062c1db2737a42fdbc6357105358c6e3",
      "464b59fc2c2d49c48e6a33d9536b9a77",
      "080abba061ee4a849e26e16eacf824b0",
      "358f98a924a54c78ab53b42186217311",
      "2d3aae8219264854adf4217d082a6dd6",
      "ed25d61d006c4ab883deec31a7ec5862",
      "8a2da7f81ebc4247a1ca36571c615d08",
      "01d90f0a52ce4d278b9820595fd1ff3c",
      "6e87c8e2477e4a5fb801a5db8cad4b83",
      "408a81fbcf43491e8b8923683258b3b4",
      "5c0fb959eed24128aa42781db7c625f1"
     ]
    },
    "id": "tuVtx1ULLEtI",
    "outputId": "320bf6b8-fe5c-48fb-8a1b-797f520398d9"
   },
   "outputs": [],
   "source": [
    "words = ipwt.process_img(img, num_words=8)"
   ]
  },
  {
   "cell_type": "code",
   "execution_count": null,
   "metadata": {
    "colab": {
     "base_uri": "https://localhost:8080/",
     "height": 880
    },
    "id": "UZvd3JQzLHCD",
    "outputId": "e43a6897-e75b-4ead-8fb9-944ef9771757"
   },
   "outputs": [],
   "source": [
    "ipwt.draw_with_plotly(words, size=1500, iframe=False)"
   ]
  },
  {
   "cell_type": "code",
   "execution_count": null,
   "metadata": {
    "id": "HGIHj6F5NdFU"
   },
   "outputs": [],
   "source": []
  }
 ],
 "metadata": {
  "accelerator": "GPU",
  "colab": {
   "gpuType": "T4",
   "provenance": []
  },
  "kernelspec": {
   "display_name": "Python 3 (ipykernel)",
   "language": "python",
   "name": "python3"
  },
  "language_info": {
   "codemirror_mode": {
    "name": "ipython",
    "version": 3
   },
   "file_extension": ".py",
   "mimetype": "text/x-python",
   "name": "python",
   "nbconvert_exporter": "python",
   "pygments_lexer": "ipython3",
   "version": "3.11.9"
  },
  "widgets": {
   "application/vnd.jupyter.widget-state+json": {
    "state": {},
    "version_major": 2,
    "version_minor": 0
   }
  }
 },
 "nbformat": 4,
 "nbformat_minor": 4
}
